{
 "cells": [
  {
   "cell_type": "code",
   "execution_count": 6,
   "id": "d2710fbb-ad16-433b-b5be-36e8addf2f7c",
   "metadata": {},
   "outputs": [],
   "source": [
    "import jax\n",
    "import jax.numpy as jnp\n",
    "from jax import lax\n",
    "import time\n",
    "from jax import random\n",
    "import time"
   ]
  },
  {
   "cell_type": "code",
   "execution_count": 8,
   "id": "27a55c5e-5b1e-495c-a325-8c0492dca814",
   "metadata": {},
   "outputs": [
    {
     "name": "stdout",
     "output_type": "stream",
     "text": [
      "[-0.05844688  0.20968866  0.45037472]\n",
      "Accepted samples shape:  (1094, 3)\n",
      "Inference function took 27.12 seconds to run\n"
     ]
    }
   ],
   "source": [
    "def prior(N, dim, key):\n",
    "    return random.uniform(key, shape=(N,dim), minval=-2, maxval=2, dtype=jnp.float32)\n",
    "\n",
    "def simulator(theta, x, key):\n",
    "    # Generate random noise sigma from a normal distribution\n",
    "    sigma = random.normal(key, dtype=jnp.float32)*0.01\n",
    "    # Compute the simulation\n",
    "    sim = jnp.dot(theta, x) + sigma\n",
    "    return sim\n",
    "\n",
    "def inference(y, x, theta, e, key):\n",
    "    accepted_samples = []\n",
    "    for i in range(len(theta)):\n",
    "        sim = simulator(theta[i, :], x, key)\n",
    "        dis = jnp.linalg.norm(sim-y)\n",
    "        #print(\"The distance is: \", d)\n",
    "        if dis < e:\n",
    "            accepted_samples.append(theta[i, :])\n",
    "    return jnp.array(accepted_samples)\n",
    "\n",
    "# Generate key\n",
    "seed=123\n",
    "key = random.PRNGKey(seed)\n",
    "\n",
    "# Define samples and dim\n",
    "N, dim = 100000, 3\n",
    "\n",
    "# Observation\n",
    "y_obs = jnp.array(0.3)\n",
    "x = random.uniform(key, shape=(dim,), minval=-0.5, maxval=0.5)\n",
    "print(x)\n",
    "e = 0.01\n",
    "\n",
    "# STart time\n",
    "start_time = time.time()\n",
    "\n",
    "theta = prior(N, dim, key)\n",
    "#print(\"Generate theta: \\n\", theta)\n",
    "\n",
    "sample_pos = inference(y_obs, x, theta, e, key)\n",
    "\n",
    "end_time = time.time()\n",
    "elapsed_time = end_time - start_time\n",
    "\n",
    "print(\"Accepted samples shape: \", sample_pos.shape)\n",
    "print(f\"Inference function took {elapsed_time:.2f} seconds to run\")"
   ]
  },
  {
   "cell_type": "code",
   "execution_count": 33,
   "id": "e97d6246-2c0b-4d1a-b904-3382f9e3eec2",
   "metadata": {},
   "outputs": [
    {
     "data": {
      "text/plain": [
       "Array([[ 1.2974119, -1.4024577,  1.5159726],\n",
       "       [-1.2172799, -0.4043584,  0.7205825]], dtype=float32)"
      ]
     },
     "execution_count": 33,
     "metadata": {},
     "output_type": "execute_result"
    }
   ],
   "source": [
    "sample_pos"
   ]
  },
  {
   "cell_type": "code",
   "execution_count": 4,
   "id": "e517689e-af9e-44d1-9342-f9fb5f7cafd5",
   "metadata": {},
   "outputs": [
    {
     "name": "stdout",
     "output_type": "stream",
     "text": [
      "Accepted samples shape:  (1084, 3)\n",
      "Inference function took 35.78 seconds to run.\n"
     ]
    }
   ],
   "source": [
    "import jax\n",
    "import jax.numpy as jnp\n",
    "from jax import random\n",
    "import time\n",
    "\n",
    "# Prior distribution\n",
    "def prior(N, dim, key):\n",
    "    return random.uniform(key, shape=(N,dim), minval=-2, maxval=2, dtype=jnp.float32)\n",
    "\n",
    "# Simulator function (adding small noise)\n",
    "def simulator(theta, x, key):\n",
    "    sigma = random.normal(key, dtype=jnp.float32) * 0.01\n",
    "    return jnp.dot(theta, x) + sigma\n",
    "\n",
    "# Inference function\n",
    "def inference(y, x, theta, e, key):\n",
    "    accepted_samples=[]\n",
    "\n",
    "    # Iterate over all theta samples\n",
    "    for i in range(len(theta)):\n",
    "        # Split the key each time to generate independent random numbers\n",
    "        key, subkey = random.split(key)\n",
    "        # Simulate the data for the current theta\n",
    "        sim = simulator(theta[i], x, subkey)\n",
    "        # Compute the distance between the simulation and the observed data\n",
    "        distance = jnp.linalg.norm(sim-y)\n",
    "        # Check if the distance is smaller than threshold e and accept sample\n",
    "        if distance<e:\n",
    "            accepted_samples.append(theta[i])\n",
    "\n",
    "    return jnp.array(accepted_samples)\n",
    "\n",
    "# Main execution\n",
    "seed=123\n",
    "key = random.PRNGKey(seed)\n",
    "\n",
    "# Define samples and dimension\n",
    "N, dim = 100000, 3\n",
    "\n",
    "# Observed value\n",
    "y_obs = jnp.array(0.3)\n",
    "x = random.uniform(key, shape=(dim,), minval=-0.5, maxval=0.5)\n",
    "e = 0.01\n",
    "\n",
    "# Start the timer\n",
    "start_time = time.time()\n",
    "\n",
    "# Generate theta using prior\n",
    "key, subkey = random.split(key)\n",
    "theta = prior(N, dim, subkey)\n",
    "\n",
    "# Run inference\n",
    "key, subkey = random.split(key)\n",
    "sample_pos = inference(y_obs, x, theta, e, subkey)\n",
    "\n",
    "end_time = time.time()\n",
    "elapsed_time = end_time-start_time\n",
    "\n",
    "# Print results\n",
    "print(\"Accepted samples shape: \", sample_pos.shape)\n",
    "print(f\"Inference function took {elapsed_time:.2f} seconds to run.\")"
   ]
  },
  {
   "cell_type": "markdown",
   "id": "fc8997bc-ce06-4504-a605-bb73c6667165",
   "metadata": {},
   "source": [
    "### Vectorization for speed"
   ]
  },
  {
   "cell_type": "code",
   "execution_count": 5,
   "id": "c1f8d73d-4d3d-4fc9-9aab-25f31057d6e4",
   "metadata": {},
   "outputs": [
    {
     "name": "stdout",
     "output_type": "stream",
     "text": [
      "Accepted samples shape:  (1035, 3)\n",
      "Inference function took 0.50 seconds to run.\n"
     ]
    }
   ],
   "source": [
    "import jax\n",
    "import jax.numpy as jnp\n",
    "from jax import random\n",
    "import time\n",
    "\n",
    "# Prior distribution\n",
    "def prior(N, dim, key):\n",
    "    return random.uniform(key, shape=(N, dim), minval=-2, maxval=2, dtype=jnp.float32)\n",
    "\n",
    "# Simulator function (adding small noise)\n",
    "def simulator(theta, x, key):\n",
    "    sigma = random.normal(key, dtype=jnp.float32) * 0.01  # small noise\n",
    "    return jnp.dot(theta, x) + sigma\n",
    "\n",
    "# Vectorized Inference function\n",
    "def inference(y, x, theta, e, key):\n",
    "    # Generate independent subkeys for each simulation\n",
    "    keys = random.split(key, theta.shape[0])\n",
    "\n",
    "    # Simulate all theta values simultaneously using vmap\n",
    "    sims = jax.vmap(lambda th, key: simulator(th, x, key))(theta, keys)\n",
    "\n",
    "    # Calculate the distances for all samples at once\n",
    "    distances = jnp.abs(sims - y)\n",
    "\n",
    "    # Mask samples where distance < e\n",
    "    mask = distances < e\n",
    "\n",
    "    # Apply mask to theta to get accepted samples\n",
    "    accepted_samples = theta[mask]\n",
    "\n",
    "    return accepted_samples, sims, distances, mask\n",
    "\n",
    "# Main execution\n",
    "seed = 123\n",
    "key = random.PRNGKey(seed)\n",
    "\n",
    "# Define samples and dimension\n",
    "N, dim = 100000, 3\n",
    "\n",
    "# Observed value\n",
    "y_obs = jnp.array(0.3)\n",
    "x = random.uniform(key, shape=(dim,), minval=-0.5, maxval=0.5)\n",
    "e = 0.01\n",
    "\n",
    "# Start the time\n",
    "start_time = time.time()\n",
    "\n",
    "# Generate theta using prior\n",
    "key, subkey = random.split(key)\n",
    "theta = prior(N, dim, subkey)\n",
    "\n",
    "# Run inference\n",
    "key, subkey = random.split(key)\n",
    "sample_pos, sims, distances, mask = inference(y_obs, x, theta, e, subkey)\n",
    "\n",
    "# Calculeta time\n",
    "end_time = time.time()\n",
    "elapsed_time = end_time - start_time\n",
    "\n",
    "# Print results\n",
    "print(\"Accepted samples shape: \", sample_pos.shape)\n",
    "print(f\"Inference function took {elapsed_time:.2f} seconds to run.\")\n"
   ]
  },
  {
   "cell_type": "code",
   "execution_count": null,
   "id": "1dfc917e-e773-46a4-80bf-7f8afaf354a7",
   "metadata": {},
   "outputs": [],
   "source": []
  },
  {
   "cell_type": "code",
   "execution_count": null,
   "id": "8aa63308-6578-408d-b797-469e1a05987d",
   "metadata": {},
   "outputs": [],
   "source": []
  }
 ],
 "metadata": {
  "kernelspec": {
   "display_name": "Python 3 (ipykernel)",
   "language": "python",
   "name": "python3"
  },
  "language_info": {
   "codemirror_mode": {
    "name": "ipython",
    "version": 3
   },
   "file_extension": ".py",
   "mimetype": "text/x-python",
   "name": "python",
   "nbconvert_exporter": "python",
   "pygments_lexer": "ipython3",
   "version": "3.10.15"
  }
 },
 "nbformat": 4,
 "nbformat_minor": 5
}
