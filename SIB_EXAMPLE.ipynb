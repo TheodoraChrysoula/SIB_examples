{
 "cells": [
  {
   "cell_type": "markdown",
   "id": "7ca046cf",
   "metadata": {},
   "source": [
    "# ABC "
   ]
  },
  {
   "cell_type": "markdown",
   "id": "3d8147e4",
   "metadata": {},
   "source": [
    "## Numpy"
   ]
  },
  {
   "cell_type": "code",
   "execution_count": 28,
   "id": "bdd9c5fa",
   "metadata": {},
   "outputs": [],
   "source": [
    "import numpy as np"
   ]
  },
  {
   "cell_type": "code",
   "execution_count": 33,
   "id": "8f58e624",
   "metadata": {},
   "outputs": [],
   "source": [
    "def prior(N,dim):\n",
    "    return np.random.uniform(-2,2, size=(N,dim)).astype(np.float32)\n",
    "\n",
    "\n",
    "def simulator(theta, x):\n",
    "    sigma = np.random.normal(0, 0.1)\n",
    "    sim = np.dot(theta, x) + sigma\n",
    "    return sim\n",
    "\n",
    "def inference(y, x, theta, e):\n",
    "    accepted_samples = []\n",
    "    for i in range(len(theta)):\n",
    "        sim = simulator(theta[i, :], x)\n",
    "        #print(sim)\n",
    "        dis = np.linalg.norm(sim - y)\n",
    "        #rint(dis)\n",
    "        if dis < e:\n",
    "            accepted_samples.append(theta[i,:])\n",
    "    return np.array(accepted_samples)\n",
    "\n",
    "\n",
    "# Define the dimensions and the number of samples\n",
    "N = 100000\n",
    "dim =10 # 2, 5, 10\n",
    "\n",
    "# Observation\n",
    "y_obs = np.array(0.3)\n",
    "# Use seed to have the same value for x in each run\n",
    "np.random.seed(42)\n",
    "x = np.random.uniform(-0.5, 0.5, size=(dim,))\n",
    "#print(x)\n",
    "e = 0.01 # threshold\n",
    "\n",
    "# Sampling thetas\n",
    "np.random.seed(None)\n",
    "theta_pr =prior(N, dim)\n",
    "\n",
    "# List of the accepted samples\n",
    "samples_pos = inference(y_obs, x, theta_pr, e)"
   ]
  },
  {
   "cell_type": "code",
   "execution_count": 34,
   "id": "4a438ad0",
   "metadata": {
    "scrolled": true
   },
   "outputs": [
    {
     "data": {
      "text/plain": [
       "(703, 10)"
      ]
     },
     "execution_count": 34,
     "metadata": {},
     "output_type": "execute_result"
    }
   ],
   "source": [
    "samples_pos.shape # 2: 1167, 5: 981, 10: 669"
   ]
  },
  {
   "cell_type": "markdown",
   "id": "696641e1",
   "metadata": {},
   "source": [
    "## JAX"
   ]
  },
  {
   "cell_type": "code",
   "execution_count": 7,
   "id": "f0489f1f",
   "metadata": {},
   "outputs": [],
   "source": [
    "import jax\n",
    "import jax.numpy as jnp\n",
    "from jax import lax\n",
    "import time"
   ]
  },
  {
   "cell_type": "code",
   "execution_count": 27,
   "id": "e0c313b5",
   "metadata": {
    "scrolled": true
   },
   "outputs": [
    {
     "name": "stdout",
     "output_type": "stream",
     "text": [
      "[-0.14509487  0.10419905 -0.07241571 -0.26938403 -0.17014146 -0.06046343\n",
      " -0.24900234 -0.22269428  0.26782072  0.21474564]\n",
      "Accepted samples shape: (970, 10)\n"
     ]
    }
   ],
   "source": [
    "def prior(N, dim, key=None):\n",
    "    if key is None:\n",
    "        key = jax.random.PRNGKey(int(time.time() * 1e6))  # Use current timestamp as seed\n",
    "    key, subkey = jax.random.split(key)  # Split the key to get a new subkey\n",
    "    return jax.random.uniform(subkey, shape=(N, dim), minval=-2, maxval=2, dtype=jnp.float32), key\n",
    "\n",
    "def simulator(theta, x, rng_key=None):\n",
    "    # Generate noise using JAX's random number generation\n",
    "    if rng_key is None:\n",
    "        rng_key = jax.random.PRNGKey(int(time.time()*1e6))\n",
    "    rng_key, subkey = jax.random.split(rng_key)  # Split the key for noise generation\n",
    "    sigma = jax.random.normal(subkey, shape=(), dtype=jnp.float32) * 0.1\n",
    "    # Generate the simulated data \n",
    "    sim = jnp.dot(theta, x) + sigma\n",
    "    #print(f'The simulated data are: ', sim)\n",
    "    return sim, rng_key\n",
    "\n",
    "def inference(y, x, theta, e, rng_key=None):\n",
    "    accepted_samples = []\n",
    "    for i in range(len(theta)):\n",
    "        sim, rng_key = simulator(theta[i, :], x, rng_key)\n",
    "        dis = jnp.linalg.norm(sim - y)\n",
    "        #print(f'The distance is: ', dis)\n",
    "        if dis < e:\n",
    "            accepted_samples.append(theta[i, :])\n",
    "    return jnp.array(accepted_samples)\n",
    "\n",
    "# Define the dimensions and number of samples\n",
    "N = 100000\n",
    "dim = 10 # 2: 1224, 5: 1051, 10: 970\n",
    "\n",
    "# Observation\n",
    "y_obs = jnp.array(0.3)\n",
    "x = jax.random.uniform(jax.random.PRNGKey(0), shape=(dim,), minval=-0.5, maxval=0.5)\n",
    "print(x)\n",
    "e = 0.01\n",
    "\n",
    "# Sampling thetas\n",
    "#global_key = jax.random.PRNGKey(0)\n",
    "theta_pr, global_key = prior(N, dim)\n",
    "#print(f'Theta priors are: ', theta_pr)\n",
    "\n",
    "# List of the accepted samples\n",
    "samples_pos = inference(y_obs, x, theta_pr, e)\n",
    "print(\"Accepted samples shape:\", samples_pos.shape)\n"
   ]
  },
  {
   "cell_type": "code",
   "execution_count": null,
   "id": "91b61924",
   "metadata": {},
   "outputs": [],
   "source": []
  }
 ],
 "metadata": {
  "kernelspec": {
   "display_name": "Python 3 (ipykernel)",
   "language": "python",
   "name": "python3"
  },
  "language_info": {
   "codemirror_mode": {
    "name": "ipython",
    "version": 3
   },
   "file_extension": ".py",
   "mimetype": "text/x-python",
   "name": "python",
   "nbconvert_exporter": "python",
   "pygments_lexer": "ipython3",
   "version": "3.10.11"
  }
 },
 "nbformat": 4,
 "nbformat_minor": 5
}
