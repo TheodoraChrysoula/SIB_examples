{
 "cells": [
  {
   "cell_type": "code",
   "execution_count": 2,
   "id": "bdd9c5fa",
   "metadata": {},
   "outputs": [],
   "source": [
    "import numpy as np"
   ]
  },
  {
   "cell_type": "code",
   "execution_count": 87,
   "id": "8f58e624",
   "metadata": {},
   "outputs": [],
   "source": [
    "def prior(N,dim):\n",
    "    return np.random.uniform(-2,2, size=(N,dim))\n",
    "\n",
    "\n",
    "def simulator(theta, x):\n",
    "    sigma = np.random.normal(0, 0.1)\n",
    "    sim = np.dot(theta, x) + sigma\n",
    "    return sim\n",
    "\n",
    "def inference(y, x, theta, e):\n",
    "    accepted_samples = []\n",
    "    for i in range(1, len(theta)):\n",
    "        sim = simulator(theta[i, :], x)\n",
    "        #print(sim)\n",
    "        dis = np.linalg.norm(sim - y)\n",
    "        #rint(dis)\n",
    "        if dis < e:\n",
    "            accepted_samples.append(theta[i,:])\n",
    "    return np.array(accepted_samples)\n",
    "\n",
    "\n",
    "# Define the dimensions and the number of samples\n",
    "N = 10000\n",
    "dim =2 # 5, 10\n",
    "\n",
    "# Observation\n",
    "y_obs = np.array(0.3)\n",
    "np.random.seed(42)\n",
    "x = np.random.uniform(-0.5, 0.5, size=(dim,))\n",
    "#print(x)\n",
    "e = 0.1 # threshold\n",
    "\n",
    "# Sampling thetas\n",
    "np.random.seed(None)\n",
    "theta_pr =prior(N, dim)\n",
    "\n",
    "# List of the accepted samples\n",
    "samples_pos = inference(y_obs, x, theta_pr, e)"
   ]
  },
  {
   "cell_type": "code",
   "execution_count": 88,
   "id": "4a438ad0",
   "metadata": {
    "scrolled": true
   },
   "outputs": [
    {
     "data": {
      "text/plain": [
       "(685, 10)"
      ]
     },
     "execution_count": 88,
     "metadata": {},
     "output_type": "execute_result"
    }
   ],
   "source": [
    "samples_pos.shape # 2: 1107, 5: 956, 10: 685"
   ]
  },
  {
   "cell_type": "code",
   "execution_count": null,
   "id": "a3778b6d",
   "metadata": {},
   "outputs": [],
   "source": []
  }
 ],
 "metadata": {
  "kernelspec": {
   "display_name": "Python 3 (ipykernel)",
   "language": "python",
   "name": "python3"
  },
  "language_info": {
   "codemirror_mode": {
    "name": "ipython",
    "version": 3
   },
   "file_extension": ".py",
   "mimetype": "text/x-python",
   "name": "python",
   "nbconvert_exporter": "python",
   "pygments_lexer": "ipython3",
   "version": "3.10.11"
  }
 },
 "nbformat": 4,
 "nbformat_minor": 5
}
